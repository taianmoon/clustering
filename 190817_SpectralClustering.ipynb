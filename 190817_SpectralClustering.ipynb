{
 "cells": [
  {
   "cell_type": "code",
   "execution_count": 3,
   "metadata": {
    "scrolled": true
   },
   "outputs": [
    {
     "name": "stdout",
     "output_type": "stream",
     "text": [
      "[[149.99773      2.5780058   66.2635     ...   5.077003     0.9692827\n",
      "    1.3175685 ]\n",
      " [150.11905      2.4570513   33.69685    ...   5.012378     2.5274227\n",
      "    4.430969  ]\n",
      " [150.15826      2.139626    65.60122    ...   5.002751     1.2487625\n",
      "    1.8051956 ]\n",
      " ...\n",
      " [150.1225       2.1299489    6.2136927  ...   5.0116863    0.69618124\n",
      "    0.54290056]\n",
      " [150.24413      2.4969258    7.772629   ...   5.0401177    1.1416423\n",
      "    1.1474057 ]\n",
      " [149.93184      2.3198414    7.176956   ...   4.991613     0.737808\n",
      "    0.8937035 ]]\n",
      "<class 'numpy.ndarray'>\n",
      "(1206, 10)\n"
     ]
    },
    {
     "name": "stderr",
     "output_type": "stream",
     "text": [
      "/home/tc1815/anaconda3/lib/python3.6/site-packages/sklearn/manifold/spectral_embedding_.py:235: UserWarning: Graph is not fully connected, spectral embedding may not work as expected.\n",
      "  warnings.warn(\"Graph is not fully connected, spectral embedding\"\n"
     ]
    },
    {
     "name": "stdout",
     "output_type": "stream",
     "text": [
      "[3 3 3 ... 3 3 3]\n",
      "[[1.00000000e+00 0.00000000e+00 7.00529830e-86 ... 0.00000000e+00\n",
      "  0.00000000e+00 0.00000000e+00]\n",
      " [0.00000000e+00 1.00000000e+00 0.00000000e+00 ... 0.00000000e+00\n",
      "  0.00000000e+00 0.00000000e+00]\n",
      " [7.00529830e-86 0.00000000e+00 1.00000000e+00 ... 0.00000000e+00\n",
      "  0.00000000e+00 0.00000000e+00]\n",
      " ...\n",
      " [0.00000000e+00 0.00000000e+00 0.00000000e+00 ... 1.00000000e+00\n",
      "  1.26556953e-12 1.10672728e-06]\n",
      " [0.00000000e+00 0.00000000e+00 0.00000000e+00 ... 1.26556953e-12\n",
      "  1.00000000e+00 7.08539601e-02]\n",
      " [0.00000000e+00 0.00000000e+00 0.00000000e+00 ... 1.10672728e-06\n",
      "  7.08539601e-02 1.00000000e+00]]\n"
     ]
    },
    {
     "name": "stderr",
     "output_type": "stream",
     "text": [
      "/home/tc1815/anaconda3/lib/python3.6/site-packages/sklearn/cluster/spectral.py:268: ConvergenceWarning: Number of distinct clusters (3) found smaller than n_clusters (8). Possibly due to duplicate points in X.\n",
      "  n_init=n_init)\n"
     ]
    }
   ],
   "source": [
    "import numpy as np\n",
    "from astropy.io import fits\n",
    "from sklearn import cluster\n",
    "\n",
    "\n",
    "#===========================================Load in data=====================================\n",
    "hdul = fits.open('PCL1002_cat_removeNaN.fits')\n",
    "data = hdul[1].data\n",
    "ra = data.field('ra')\n",
    "dec = data.field('dec')\n",
    "f250 = data.field('f350')\n",
    "et250 = data.field('et250')\n",
    "f350 = data.field('f350')\n",
    "et350 = data.field('et350')\n",
    "f500 = data.field('f500')\n",
    "et500 = data.field('et500')\n",
    "color_f250_f350_pre = data.field('f250/f350')\n",
    "color_f350_f500_pre = data.field('f350/f500')\n",
    "\n",
    "X = np.column_stack((ra, dec, f250, et250, f350, et350, f500, et500, color_f250_f350_pre, color_f350_f500_pre))\n",
    "#X = np.column_stack((ra, dec, f250, et250, f350, et350, f500, et500))\n",
    "#X = np.column_stack((ra, dec, color_f250_f350_pre, color_f350_f500_pre))\n",
    "\n",
    "print(X)\n",
    "print(type(X))\n",
    "print(X.shape)\n",
    "\n",
    "\n",
    "#==============================setup classifier=========================================\n",
    "#Apply clustering to a projection of the normalized Laplacian. In practice Spectral Clustering is very useful when the structure of the individual clusters is highly non-convex or more generally when a measure of the center and spread of the cluster is not a suitable description of the complete cluster. For instance when clusters are nested circles on the 2D plane.\n",
    "\n",
    "\n",
    "spectral_clustering = cluster.SpectralClustering()\n",
    "\n",
    "spectral_clustering.fit(X)\n",
    "\n",
    "print(spectral_clustering.labels_)\n",
    "\n",
    "np.savetxt('output_SpectralClustering.cat', spectral_clustering.labels_, delimiter=' ')\n",
    "\n",
    "print(spectral_clustering.affinity_matrix_)\n",
    "\n",
    "\n",
    "\n"
   ]
  }
 ],
 "metadata": {
  "kernelspec": {
   "display_name": "Python 3",
   "language": "python",
   "name": "python3"
  },
  "language_info": {
   "codemirror_mode": {
    "name": "ipython",
    "version": 3
   },
   "file_extension": ".py",
   "mimetype": "text/x-python",
   "name": "python",
   "nbconvert_exporter": "python",
   "pygments_lexer": "ipython3",
   "version": "3.6.8"
  }
 },
 "nbformat": 4,
 "nbformat_minor": 2
}
